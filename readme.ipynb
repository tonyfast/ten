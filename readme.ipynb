{
 "cells": [
  {
   "cell_type": "code",
   "execution_count": 1,
   "metadata": {},
   "outputs": [],
   "source": [
    "    \n",
    "    %reload_ext rites.all\n",
    "    from importlib import reload\n",
    "    from poser import *\n",
    "    from  ten import intro\n",
    "    from ten.utils.unittest import unittest"
   ]
  },
  {
   "cell_type": "code",
   "execution_count": 2,
   "metadata": {},
   "outputs": [
    {
     "data": {
      "text/markdown": [
       "[![](https://user-images.githubusercontent.com/4236275/35933146-bfb7ec94-0c07-11e8-98d5-8972dc4b4e39.png)](hsttps://github.com/tonyfast/ten)\n",
       "\n",
       "### [Github](hsttps://github.com/tonyfast/ten) | [NBViewer](http://nbviewer.jupyter.org/github/tonyfast/ten/blob/master/ten/intro.ipynb) | [Pages](https://tonyfast.github.io/ten)\n",
       "\n",
       "[![Gitter](https://badges.gitter.im/tonyfast/ten.png)](https://gitter.im/tonyfast-ten)\n",
       "\n",
       "\n",
       "Project Jupyter is a growing ecosystem of free, open source scientific software for interactive computing, consisting of millions of users and over a million notebooks on GitHub.  Jupyter's Notebook, and related experiences, are becoming standard interfaces for scientists and engineers.  The notebook interface is impacting the broader landscapes of research, computing, and teaching where data and code are essential; the stakeholders span industry, academia, and philanthropy.\n",
       "\n",
       "This talk will review the history of Project Jupyter as scientific software born from the Scientific Python (SciPy) community.  Since it's inception, the community has extended Jupyter to work with over 50 different languages and provided new options for interactive development, research and presentation, including JupyterLab, the next generation of the Notebook.  In the broader open source community we find Jupyter tools for grading, batch processing, app development, documentation, tests, and even source code.\n",
       "\n",
       "\n",
       "Within organizations, Jupyter notebooks are commonly used to exchange ideas and build knowledge bases across diverse disciplines.  The talk will highlight recent case studies in Jupyter transforming classroom education, massive collaboration in physics, and the entire multimedia experience of learning."
      ],
      "text/plain": [
       "<IPython.core.display.Markdown object>"
      ]
     },
     "metadata": {},
     "output_type": "display_data"
    }
   ],
   "source": [
    "[![]({{intro.img}})]({{intro.github}})\n",
    "\n",
    "### [Github]({{intro.github}}) | [NBViewer]({{intro.nbviewer}}) | [Pages]({{intro.pages}})\n",
    "\n",
    "{{intro.gitter}}\n",
    "\n",
    "\n",
    "{{intro.abstract}}"
   ]
  },
  {
   "cell_type": "code",
   "execution_count": 3,
   "metadata": {},
   "outputs": [
    {
     "data": {
      "text/markdown": [
       "# [Get Started](ten/intro.ipynb)"
      ],
      "text/plain": [
       "<IPython.core.display.Markdown object>"
      ]
     },
     "metadata": {},
     "output_type": "display_data"
    }
   ],
   "source": [
    "# [Get Started](ten/intro.ipynb)"
   ]
  },
  {
   "cell_type": "code",
   "execution_count": 4,
   "metadata": {},
   "outputs": [
    {
     "data": {
      "text/markdown": [
       "---\n",
       "\n",
       "# Documentation\n",
       "\n",
       "Create the [readme.md](https://github.com/noffle/art-of-readme \"Styleguide for the future\") and the documentation with nbconvert.\n",
       "\n",
       "    if __name__ == '__main__':\n",
       "        !jupyter nbconvert --MarkdownExporter.exclude_input=True --to markdown readme.ipynb\n",
       "        !cp readme.md docs\n",
       "        !source activate p6 && jupyter nbconvert --MarkdownExporter.exclude_input=True --execute --to markdown ten/*.ipynb\n",
       "        !mv ten/*.md docs\n",
       "        !mv ten/technical_files/*.svg docs/technical_files\n",
       "        !mv ten/history_files/*.svg docs/history_files\n",
       "        !mv ten/collaboration_files/*.svg docs/collaboration_files/\n",
       "        !rm -rf ten/*_files"
      ],
      "text/plain": [
       "<IPython.core.display.Markdown object>"
      ]
     },
     "metadata": {},
     "output_type": "display_data"
    },
    {
     "name": "stdout",
     "output_type": "stream",
     "text": [
      "[NbConvertApp] Converting notebook readme.ipynb to markdown\n",
      "[NbConvertApp] Writing 3111 bytes to readme.md\n",
      "[NbConvertApp] Converting notebook ten/collaboration.ipynb to markdown\n",
      "[NbConvertApp] Executing notebook with kernel: other-env\n",
      "[NbConvertApp] Support files will be in collaboration_files/\n",
      "[NbConvertApp] Making directory ten/collaboration_files\n",
      "[NbConvertApp] Making directory ten/collaboration_files\n",
      "[NbConvertApp] Making directory ten/collaboration_files\n",
      "[NbConvertApp] Writing 12661 bytes to ten/collaboration.md\n",
      "[NbConvertApp] Converting notebook ten/history.ipynb to markdown\n",
      "[NbConvertApp] Executing notebook with kernel: other-env\n",
      "[NbConvertApp] Support files will be in history_files/\n",
      "[NbConvertApp] Making directory ten/history_files\n",
      "[NbConvertApp] Making directory ten/history_files\n",
      "[NbConvertApp] Making directory ten/history_files\n",
      "[NbConvertApp] Making directory ten/history_files\n",
      "[NbConvertApp] Writing 34374 bytes to ten/history.md\n",
      "[NbConvertApp] Converting notebook ten/intro.ipynb to markdown\n",
      "[NbConvertApp] Executing notebook with kernel: other-env\n",
      "[NbConvertApp] Writing 8500 bytes to ten/intro.md\n",
      "[NbConvertApp] Converting notebook ten/technical.ipynb to markdown\n",
      "[NbConvertApp] Executing notebook with kernel: other-env\n",
      "[NbConvertApp] Support files will be in technical_files/\n",
      "[NbConvertApp] Making directory ten/technical_files\n",
      "[NbConvertApp] Making directory ten/technical_files\n",
      "[NbConvertApp] Making directory ten/technical_files\n",
      "[NbConvertApp] Making directory ten/technical_files\n",
      "[NbConvertApp] Writing 25244 bytes to ten/technical.md\n"
     ]
    }
   ],
   "source": [
    "---\n",
    "\n",
    "# Documentation\n",
    "\n",
    "Create the [readme.md](https://github.com/noffle/art-of-readme \"Styleguide for the future\") and the documentation with nbconvert.\n",
    "\n",
    "    if __name__ == '__main__':\n",
    "        !jupyter nbconvert --MarkdownExporter.exclude_input=True --to markdown readme.ipynb\n",
    "        !cp readme.md docs\n",
    "        !source activate p6 && jupyter nbconvert --MarkdownExporter.exclude_input=True --execute --to markdown ten/*.ipynb\n",
    "        !mv ten/*.md docs\n",
    "        !mv ten/technical_files/*.svg docs/technical_files\n",
    "        !mv ten/history_files/*.svg docs/history_files\n",
    "        !mv ten/collaboration_files/*.svg docs/collaboration_files/\n",
    "        !rm -rf ten/*_files"
   ]
  },
  {
   "cell_type": "code",
   "execution_count": 5,
   "metadata": {},
   "outputs": [
    {
     "data": {
      "text/markdown": [
       "## Test\n",
       "\n",
       "This project aims to be readable, reusable, and reproducible literate documents created with Jupyter.  \n",
       "\n",
       "    def testTheModules():\n",
       "        \"\"\"Import all of the modules created for ten, test for completeness.\"\"\"\n",
       "        with __import__('IPython').utils.capture.capture_output() as out:\n",
       "            from ten import history, technical, collaboration, intro\n",
       "            from ten.particles import kernels, refs as xx, computing, recent\n",
       "        modules = history, technical, collaboration, recent, kernels, computing, intro\n",
       "        assert the.map(lambda x: x.__complete__ is True).all()(modules)\n",
       "        assert the.map(x.__file__).map(the.str.endswith('.ipynb')).all()(modules)\n",
       "                \n",
       "    assert not getattr(__name__ == '__main__' and unittest(testTheModules), 'errors', None) , \"\"\"The tests were run and did not pass\"\"\" \n",
       "    print(\"\"\"🏆🏆🏆\"\"\")"
      ],
      "text/plain": [
       "<IPython.core.display.Markdown object>"
      ]
     },
     "metadata": {},
     "output_type": "display_data"
    },
    {
     "name": "stdout",
     "output_type": "stream",
     "text": [
      "🏆🏆🏆\n"
     ]
    }
   ],
   "source": [
    "## Test\n",
    "\n",
    "This project aims to be readable, reusable, and reproducible literate documents created with Jupyter.  \n",
    "\n",
    "    def testTheModules():\n",
    "        \"\"\"Import all of the modules created for ten, test for completeness.\"\"\"\n",
    "        with __import__('IPython').utils.capture.capture_output() as out:\n",
    "            from ten import history, technical, collaboration, intro\n",
    "            from ten.particles import kernels, refs as xx, computing, recent\n",
    "        modules = history, technical, collaboration, recent, kernels, computing, intro\n",
    "        assert the.map(lambda x: x.__complete__ is True).all()(modules)\n",
    "        assert the.map(x.__file__).map(the.str.endswith('.ipynb')).all()(modules)\n",
    "                \n",
    "    assert not getattr(__name__ == '__main__' and unittest(testTheModules), 'errors', None) , \"\"\"The tests were run and did not pass\"\"\" \n",
    "    print(\"\"\"🏆🏆🏆\"\"\")"
   ]
  }
 ],
 "metadata": {
  "celltoolbar": "Slideshow",
  "kernelspec": {
   "display_name": "p6",
   "language": "python",
   "name": "other-env"
  },
  "language_info": {
   "codemirror_mode": {
    "name": "ipython",
    "version": 3
   },
   "file_extension": ".py",
   "mimetype": "text/x-python",
   "name": "python",
   "nbconvert_exporter": "python",
   "pygments_lexer": "ipython3",
   "version": "3.6.3"
  }
 },
 "nbformat": 4,
 "nbformat_minor": 2
}

Join the chat at https://gitter.im/tonyfast-ten/Lobby
